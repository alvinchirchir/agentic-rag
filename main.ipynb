{
 "cells": [
  {
   "cell_type": "markdown",
   "metadata": {},
   "source": [
    "### Loading the docs from Website\n"
   ]
  },
  {
   "cell_type": "code",
   "execution_count": 1,
   "metadata": {},
   "outputs": [
    {
     "name": "stderr",
     "output_type": "stream",
     "text": [
      "INFO:scrapy.utils.log:Scrapy 2.11.1 started (bot: scrapybot)\n",
      "2025-07-08 12:51:18 [scrapy.utils.log] INFO: Scrapy 2.11.1 started (bot: scrapybot)\n",
      "INFO:scrapy.utils.log:Versions: lxml 5.2.1.0, libxml2 2.10.4, cssselect 1.2.0, parsel 1.8.1, w3lib 2.1.2, Twisted 23.10.0, Python 3.8.16 | packaged by conda-forge | (default, Feb  1 2023, 16:01:13) - [Clang 14.0.6 ], pyOpenSSL 23.2.0 (OpenSSL 3.3.1 4 Jun 2024), cryptography 41.0.3, Platform macOS-15.5-arm64-arm-64bit\n",
      "2025-07-08 12:51:18 [scrapy.utils.log] INFO: Versions: lxml 5.2.1.0, libxml2 2.10.4, cssselect 1.2.0, parsel 1.8.1, w3lib 2.1.2, Twisted 23.10.0, Python 3.8.16 | packaged by conda-forge | (default, Feb  1 2023, 16:01:13) - [Clang 14.0.6 ], pyOpenSSL 23.2.0 (OpenSSL 3.3.1 4 Jun 2024), cryptography 41.0.3, Platform macOS-15.5-arm64-arm-64bit\n",
      "INFO:scrapy.addons:Enabled addons:\n",
      "[]\n",
      "2025-07-08 12:51:18 [scrapy.addons] INFO: Enabled addons:\n",
      "[]\n",
      "DEBUG:scrapy.utils.log:Using reactor: twisted.internet.selectreactor.SelectReactor\n",
      "2025-07-08 12:51:18 [scrapy.utils.log] DEBUG: Using reactor: twisted.internet.selectreactor.SelectReactor\n",
      "INFO:scrapy.extensions.telnet:Telnet Password: 87f2fd426722f78d\n",
      "2025-07-08 12:51:18 [scrapy.extensions.telnet] INFO: Telnet Password: 87f2fd426722f78d\n",
      "INFO:scrapy.middleware:Enabled extensions:\n",
      "['scrapy.extensions.corestats.CoreStats',\n",
      " 'scrapy.extensions.telnet.TelnetConsole',\n",
      " 'scrapy.extensions.memusage.MemoryUsage',\n",
      " 'scrapy.extensions.logstats.LogStats']\n",
      "2025-07-08 12:51:18 [scrapy.middleware] INFO: Enabled extensions:\n",
      "['scrapy.extensions.corestats.CoreStats',\n",
      " 'scrapy.extensions.telnet.TelnetConsole',\n",
      " 'scrapy.extensions.memusage.MemoryUsage',\n",
      " 'scrapy.extensions.logstats.LogStats']\n",
      "INFO:scrapy.crawler:Overridden settings:\n",
      "{}\n",
      "2025-07-08 12:51:18 [scrapy.crawler] INFO: Overridden settings:\n",
      "{}\n",
      "INFO:scrapy.middleware:Enabled downloader middlewares:\n",
      "['scrapy.downloadermiddlewares.httpauth.HttpAuthMiddleware',\n",
      " 'scrapy.downloadermiddlewares.downloadtimeout.DownloadTimeoutMiddleware',\n",
      " 'scrapy.downloadermiddlewares.defaultheaders.DefaultHeadersMiddleware',\n",
      " 'scrapy.downloadermiddlewares.useragent.UserAgentMiddleware',\n",
      " 'scrapy.downloadermiddlewares.retry.RetryMiddleware',\n",
      " 'scrapy.downloadermiddlewares.redirect.MetaRefreshMiddleware',\n",
      " 'scrapy.downloadermiddlewares.httpcompression.HttpCompressionMiddleware',\n",
      " 'scrapy.downloadermiddlewares.redirect.RedirectMiddleware',\n",
      " 'scrapy.downloadermiddlewares.cookies.CookiesMiddleware',\n",
      " 'scrapy.downloadermiddlewares.httpproxy.HttpProxyMiddleware',\n",
      " 'scrapy.downloadermiddlewares.stats.DownloaderStats']\n",
      "2025-07-08 12:51:18 [scrapy.middleware] INFO: Enabled downloader middlewares:\n",
      "['scrapy.downloadermiddlewares.httpauth.HttpAuthMiddleware',\n",
      " 'scrapy.downloadermiddlewares.downloadtimeout.DownloadTimeoutMiddleware',\n",
      " 'scrapy.downloadermiddlewares.defaultheaders.DefaultHeadersMiddleware',\n",
      " 'scrapy.downloadermiddlewares.useragent.UserAgentMiddleware',\n",
      " 'scrapy.downloadermiddlewares.retry.RetryMiddleware',\n",
      " 'scrapy.downloadermiddlewares.redirect.MetaRefreshMiddleware',\n",
      " 'scrapy.downloadermiddlewares.httpcompression.HttpCompressionMiddleware',\n",
      " 'scrapy.downloadermiddlewares.redirect.RedirectMiddleware',\n",
      " 'scrapy.downloadermiddlewares.cookies.CookiesMiddleware',\n",
      " 'scrapy.downloadermiddlewares.httpproxy.HttpProxyMiddleware',\n",
      " 'scrapy.downloadermiddlewares.stats.DownloaderStats']\n",
      "INFO:scrapy.middleware:Enabled spider middlewares:\n",
      "['scrapy.spidermiddlewares.httperror.HttpErrorMiddleware',\n",
      " 'scrapy.spidermiddlewares.offsite.OffsiteMiddleware',\n",
      " 'scrapy.spidermiddlewares.referer.RefererMiddleware',\n",
      " 'scrapy.spidermiddlewares.urllength.UrlLengthMiddleware',\n",
      " 'scrapy.spidermiddlewares.depth.DepthMiddleware']\n",
      "2025-07-08 12:51:18 [scrapy.middleware] INFO: Enabled spider middlewares:\n",
      "['scrapy.spidermiddlewares.httperror.HttpErrorMiddleware',\n",
      " 'scrapy.spidermiddlewares.offsite.OffsiteMiddleware',\n",
      " 'scrapy.spidermiddlewares.referer.RefererMiddleware',\n",
      " 'scrapy.spidermiddlewares.urllength.UrlLengthMiddleware',\n",
      " 'scrapy.spidermiddlewares.depth.DepthMiddleware']\n",
      "INFO:scrapy.middleware:Enabled item pipelines:\n",
      "[]\n",
      "2025-07-08 12:51:18 [scrapy.middleware] INFO: Enabled item pipelines:\n",
      "[]\n",
      "INFO:scrapy.core.engine:Spider opened\n",
      "2025-07-08 12:51:18 [scrapy.core.engine] INFO: Spider opened\n",
      "INFO:scrapy.extensions.logstats:Crawled 0 pages (at 0 pages/min), scraped 0 items (at 0 items/min)\n",
      "2025-07-08 12:51:18 [scrapy.extensions.logstats] INFO: Crawled 0 pages (at 0 pages/min), scraped 0 items (at 0 items/min)\n",
      "INFO:scrapy.extensions.telnet:Telnet console listening on 127.0.0.1:6027\n",
      "2025-07-08 12:51:18 [scrapy.extensions.telnet] INFO: Telnet console listening on 127.0.0.1:6027\n",
      "DEBUG:scrapy.core.engine:Crawled (200) <GET https://immersify.com> (referer: None)\n",
      "2025-07-08 12:51:19 [scrapy.core.engine] DEBUG: Crawled (200) <GET https://immersify.com> (referer: None)\n",
      "INFO:scrapy.core.engine:Closing spider (finished)\n",
      "2025-07-08 12:51:19 [scrapy.core.engine] INFO: Closing spider (finished)\n",
      "INFO:scrapy.statscollectors:Dumping Scrapy stats:\n",
      "{'downloader/request_bytes': 218,\n",
      " 'downloader/request_count': 1,\n",
      " 'downloader/request_method_count/GET': 1,\n",
      " 'downloader/response_bytes': 71945,\n",
      " 'downloader/response_count': 1,\n",
      " 'downloader/response_status_count/200': 1,\n",
      " 'elapsed_time_seconds': 0.646127,\n",
      " 'finish_reason': 'finished',\n",
      " 'finish_time': datetime.datetime(2025, 7, 8, 11, 51, 19, 136128, tzinfo=datetime.timezone.utc),\n",
      " 'log_count/DEBUG': 2,\n",
      " 'log_count/INFO': 10,\n",
      " 'memusage/max': 108150784,\n",
      " 'memusage/startup': 108150784,\n",
      " 'response_received_count': 1,\n",
      " 'scheduler/dequeued': 1,\n",
      " 'scheduler/dequeued/memory': 1,\n",
      " 'scheduler/enqueued': 1,\n",
      " 'scheduler/enqueued/memory': 1,\n",
      " 'start_time': datetime.datetime(2025, 7, 8, 11, 51, 18, 490001, tzinfo=datetime.timezone.utc)}\n",
      "2025-07-08 12:51:19 [scrapy.statscollectors] INFO: Dumping Scrapy stats:\n",
      "{'downloader/request_bytes': 218,\n",
      " 'downloader/request_count': 1,\n",
      " 'downloader/request_method_count/GET': 1,\n",
      " 'downloader/response_bytes': 71945,\n",
      " 'downloader/response_count': 1,\n",
      " 'downloader/response_status_count/200': 1,\n",
      " 'elapsed_time_seconds': 0.646127,\n",
      " 'finish_reason': 'finished',\n",
      " 'finish_time': datetime.datetime(2025, 7, 8, 11, 51, 19, 136128, tzinfo=datetime.timezone.utc),\n",
      " 'log_count/DEBUG': 2,\n",
      " 'log_count/INFO': 10,\n",
      " 'memusage/max': 108150784,\n",
      " 'memusage/startup': 108150784,\n",
      " 'response_received_count': 1,\n",
      " 'scheduler/dequeued': 1,\n",
      " 'scheduler/dequeued/memory': 1,\n",
      " 'scheduler/enqueued': 1,\n",
      " 'scheduler/enqueued/memory': 1,\n",
      " 'start_time': datetime.datetime(2025, 7, 8, 11, 51, 18, 490001, tzinfo=datetime.timezone.utc)}\n",
      "INFO:scrapy.core.engine:Spider closed (finished)\n",
      "2025-07-08 12:51:19 [scrapy.core.engine] INFO: Spider closed (finished)\n"
     ]
    },
    {
     "name": "stdout",
     "output_type": "stream",
     "text": [
      "Scraped data from https://immersify.com\n",
      "{'url': 'https://immersify.com', 'title': '\\n        Immersify\\n    ', 'headings': ['A selection of Institutions using Immersify', 'Want to find out more?', 'Cookies Policy'], 'paragraphs': ['Immersify provides lecturers and academics with interactive resources spanning from beginner to advanced content, for a comprehensive learning experience.', '3D visuals, voiceover, simulations, games and more to make even the most difficult subjects fun!', 'A huge catalog of flexible, peer-reviewed content ready to integrate seamlessly with any curriculum.', 'Discover the proven impact immersify can have on student outcomes through our rich analytics.', 'Study conducted by Waveform, independent market research company, 2023.', 'of users agree that the platform has high quality visuals and resources.', 'say that Immersify makes studying more enjoyable.', 'of Immersify users think that it’s relevant to them and their studies.', 'find the platform useful to prepare for their exams.', 'Our dentistry content is created through collaboration with industry experts and dentistry professionals. Meet a selection of our experts here:', 'Enhance your education delivery through advanced technology today.', 'Our platform’s detailed imagery and visual resources are flexible to fit in with how you want to work. Flip your classroom, provide pre-matriculation, supplement your teaching. There are so many ways to embed Immersify and reach students like never before!', 'You then get detailed analytics and insights to help you understand what topics students are struggling with.', 'For more information, please contact our education team on ', ', and they would be happy to discuss how you can make the most of the platform.', 'Manchester, United Kingdom', 'New York City, New York, USA', '\\nWe use our own cookies, as well as those of third parties, for individual as\\n     well as repeated sessions, in order to make the navigation of our \\n     website easy and safe for our users. See our ', ' for more information.\\n']}\n",
      "Final Scraped Data:\n",
      "[{'url': 'https://immersify.com', 'title': '\\n        Immersify\\n    ', 'headings': ['A selection of Institutions using Immersify', 'Want to find out more?', 'Cookies Policy'], 'paragraphs': ['Immersify provides lecturers and academics with interactive resources spanning from beginner to advanced content, for a comprehensive learning experience.', '3D visuals, voiceover, simulations, games and more to make even the most difficult subjects fun!', 'A huge catalog of flexible, peer-reviewed content ready to integrate seamlessly with any curriculum.', 'Discover the proven impact immersify can have on student outcomes through our rich analytics.', 'Study conducted by Waveform, independent market research company, 2023.', 'of users agree that the platform has high quality visuals and resources.', 'say that Immersify makes studying more enjoyable.', 'of Immersify users think that it’s relevant to them and their studies.', 'find the platform useful to prepare for their exams.', 'Our dentistry content is created through collaboration with industry experts and dentistry professionals. Meet a selection of our experts here:', 'Enhance your education delivery through advanced technology today.', 'Our platform’s detailed imagery and visual resources are flexible to fit in with how you want to work. Flip your classroom, provide pre-matriculation, supplement your teaching. There are so many ways to embed Immersify and reach students like never before!', 'You then get detailed analytics and insights to help you understand what topics students are struggling with.', 'For more information, please contact our education team on ', ', and they would be happy to discuss how you can make the most of the platform.', 'Manchester, United Kingdom', 'New York City, New York, USA', '\\nWe use our own cookies, as well as those of third parties, for individual as\\n     well as repeated sessions, in order to make the navigation of our \\n     website easy and safe for our users. See our ', ' for more information.\\n']}]\n",
      "Scraped 1 pages.\n"
     ]
    }
   ],
   "source": [
    "import scrapy\n",
    "from scrapy.crawler import CrawlerProcess\n",
    "import logging\n",
    "import warnings\n",
    "from scrapy.utils.deprecate import ScrapyDeprecationWarning\n",
    "\n",
    "warnings.filterwarnings(\"ignore\", category=ScrapyDeprecationWarning)\n",
    "logging.basicConfig(level=logging.WARNING)\n",
    "\n",
    "scraped_data = []\n",
    "class ImmersifySpider(scrapy.Spider):\n",
    "    name = \"immersify\"\n",
    "    allowed_domains = [\"immersify.com\"]\n",
    "    start_urls = [\n",
    "        \"https://immersify.com\"    \n",
    "    ]\n",
    "\n",
    "    def parse(self, response):\n",
    "        \n",
    "        page_data = {\n",
    "            \"url\": response.url,\n",
    "            \"title\": response.css('title::text').get(),\n",
    "            \"headings\": response.css('h1::text, h2::text, h3::text').getall(),\n",
    "            \"paragraphs\": response.css('p::text').getall(),\n",
    "        }\n",
    "\n",
    "        \n",
    "        scraped_data.append(page_data)\n",
    "\n",
    "        \n",
    "        print(f\"Scraped data from {response.url}\")\n",
    "        print(page_data)\n",
    "\n",
    "\n",
    "process = CrawlerProcess()\n",
    "process.crawl(ImmersifySpider)\n",
    "process.start()\n",
    "\n",
    "\n",
    "print(\"Final Scraped Data:\")\n",
    "print(scraped_data)\n",
    "\n",
    "\n",
    "print(f\"Scraped {len(scraped_data)} pages.\")"
   ]
  },
  {
   "cell_type": "markdown",
   "metadata": {},
   "source": [
    "### Convert to LangChain Documents\n"
   ]
  },
  {
   "cell_type": "code",
   "execution_count": 2,
   "metadata": {},
   "outputs": [
    {
     "name": "stdout",
     "output_type": "stream",
     "text": [
      "Converted 1 pages into documents.\n"
     ]
    }
   ],
   "source": [
    "from langchain.schema import Document\n",
    "\n",
    "\n",
    "def convert_to_documents(scraped_data):\n",
    "    documents = []\n",
    "    for page in scraped_data:\n",
    "        content = \"\\n\".join(page['headings']) + \"\\n\" + \"\\n\".join(page['paragraphs'])\n",
    "        documents.append(Document(page_content=content, metadata={\"url\": page['url'], \"title\": page['title']}))\n",
    "    return documents\n",
    "\n",
    "\n",
    "documents = convert_to_documents(scraped_data)\n",
    "print(f\"Converted {len(documents)} pages into documents.\")"
   ]
  },
  {
   "cell_type": "markdown",
   "metadata": {},
   "source": [
    "### Convert to vector"
   ]
  },
  {
   "cell_type": "code",
   "execution_count": 3,
   "metadata": {},
   "outputs": [
    {
     "name": "stderr",
     "output_type": "stream",
     "text": [
      "INFO:chromadb.telemetry.product.posthog:Anonymized telemetry enabled. See                     https://docs.trychroma.com/telemetry for more information.\n",
      "2025-07-08 12:51:19 [chromadb.telemetry.product.posthog] INFO: Anonymized telemetry enabled. See                     https://docs.trychroma.com/telemetry for more information.\n",
      "DEBUG:chromadb.config:Starting component System\n",
      "2025-07-08 12:51:20 [chromadb.config] DEBUG: Starting component System\n",
      "DEBUG:chromadb.config:Starting component Posthog\n",
      "2025-07-08 12:51:20 [chromadb.config] DEBUG: Starting component Posthog\n",
      "DEBUG:chromadb.config:Starting component OpenTelemetryClient\n",
      "2025-07-08 12:51:20 [chromadb.config] DEBUG: Starting component OpenTelemetryClient\n",
      "DEBUG:chromadb.config:Starting component SqliteDB\n",
      "2025-07-08 12:51:20 [chromadb.config] DEBUG: Starting component SqliteDB\n",
      "DEBUG:chromadb.config:Starting component QuotaEnforcer\n",
      "2025-07-08 12:51:20 [chromadb.config] DEBUG: Starting component QuotaEnforcer\n",
      "DEBUG:chromadb.config:Starting component LocalSegmentManager\n",
      "2025-07-08 12:51:20 [chromadb.config] DEBUG: Starting component LocalSegmentManager\n",
      "DEBUG:chromadb.config:Starting component SegmentAPI\n",
      "2025-07-08 12:51:20 [chromadb.config] DEBUG: Starting component SegmentAPI\n",
      "DEBUG:chromadb.api.segment:Collection langchain already exists, returning existing collection.\n",
      "2025-07-08 12:51:20 [chromadb.api.segment] DEBUG: Collection langchain already exists, returning existing collection.\n",
      "OllamaEmbeddings:   0%|          | 0/1 [00:00<?, ?it/s]DEBUG:urllib3.connectionpool:Starting new HTTP connection (1): localhost:11434\n",
      "2025-07-08 12:51:20 [urllib3.connectionpool] DEBUG: Starting new HTTP connection (1): localhost:11434\n",
      "DEBUG:urllib3.connectionpool:Starting new HTTPS connection (1): us.i.posthog.com:443\n",
      "2025-07-08 12:51:20 [urllib3.connectionpool] DEBUG: Starting new HTTPS connection (1): us.i.posthog.com:443\n",
      "DEBUG:urllib3.connectionpool:http://localhost:11434 \"POST /api/embeddings HTTP/11\" 200 None\n",
      "2025-07-08 12:51:20 [urllib3.connectionpool] DEBUG: http://localhost:11434 \"POST /api/embeddings HTTP/11\" 200 None\n",
      "OllamaEmbeddings: 100%|██████████| 1/1 [00:00<00:00,  1.08it/s]\n",
      "DEBUG:chromadb.config:Starting component PersistentLocalHnswSegment\n",
      "2025-07-08 12:51:20 [chromadb.config] DEBUG: Starting component PersistentLocalHnswSegment\n"
     ]
    },
    {
     "name": "stdout",
     "output_type": "stream",
     "text": [
      "Documents stored in Chroma.\n"
     ]
    }
   ],
   "source": [
    "from langchain.vectorstores import Chroma\n",
    "from langchain.embeddings.ollama import OllamaEmbeddings\n",
    "\n",
    "# Initialize Chroma vectorstore\n",
    "def store_in_chroma(documents):\n",
    "\n",
    "    vectorstore = Chroma.from_documents(\n",
    "        documents=documents,\n",
    "        embedding=OllamaEmbeddings(model=\"llama3.2\", show_progress=True),\n",
    "        persist_directory=\"./chroma_db\",\n",
    "    )\n",
    "\n",
    "    return vectorstore\n",
    "\n",
    "\n",
    "documents = convert_to_documents(scraped_data)\n",
    "vectorstore = store_in_chroma(documents)\n",
    "print(\"Documents stored in Chroma.\")"
   ]
  },
  {
   "cell_type": "markdown",
   "metadata": {},
   "source": []
  },
  {
   "cell_type": "code",
   "execution_count": 4,
   "metadata": {},
   "outputs": [
    {
     "name": "stderr",
     "output_type": "stream",
     "text": [
      "OllamaEmbeddings:   0%|          | 0/1 [00:00<?, ?it/s]DEBUG:urllib3.connectionpool:Starting new HTTP connection (1): localhost:11434\n",
      "2025-07-08 12:51:21 [urllib3.connectionpool] DEBUG: Starting new HTTP connection (1): localhost:11434\n",
      "DEBUG:urllib3.connectionpool:https://us.i.posthog.com:443 \"POST /batch/ HTTP/11\" 200 15\n",
      "2025-07-08 12:51:21 [urllib3.connectionpool] DEBUG: https://us.i.posthog.com:443 \"POST /batch/ HTTP/11\" 200 15\n",
      "DEBUG:urllib3.connectionpool:http://localhost:11434 \"POST /api/embeddings HTTP/11\" 200 None\n",
      "2025-07-08 12:51:21 [urllib3.connectionpool] DEBUG: http://localhost:11434 \"POST /api/embeddings HTTP/11\" 200 None\n",
      "OllamaEmbeddings: 100%|██████████| 1/1 [00:00<00:00, 11.24it/s]"
     ]
    },
    {
     "name": "stdout",
     "output_type": "stream",
     "text": [
      "[Document(metadata={'title': '\\n        Immersify\\n    ', 'url': 'https://immersify.com'}, page_content='A selection of Institutions using Immersify\\nWant to find out more?\\nCookies Policy\\nImmersify provides lecturers and academics with interactive resources spanning from beginner to advanced content, for a comprehensive learning experience.\\n3D visuals, voiceover, simulations, games and more to make even the most difficult subjects fun!\\nA huge catalog of flexible, peer-reviewed content ready to integrate seamlessly with any curriculum.\\nDiscover the proven impact immersify can have on student outcomes through our rich analytics.\\nStudy conducted by Waveform, independent market research company, 2023.\\nof users agree that the platform has high quality visuals and resources.\\nsay that Immersify makes studying more enjoyable.\\nof Immersify users think that it’s relevant to them and their studies.\\nfind the platform useful to prepare for their exams.\\nOur dentistry content is created through collaboration with industry experts and dentistry professionals. Meet a selection of our experts here:\\nEnhance your education delivery through advanced technology today.\\nOur platform’s detailed imagery and visual resources are flexible to fit in with how you want to work. Flip your classroom, provide pre-matriculation, supplement your teaching. There are so many ways to embed Immersify and reach students like never before!\\nYou then get detailed analytics and insights to help you understand what topics students are struggling with.\\nFor more information, please contact our education team on \\n, and they would be happy to discuss how you can make the most of the platform.\\nManchester, United Kingdom\\nNew York City, New York, USA\\n\\nWe use our own cookies, as well as those of third parties, for individual as\\n     well as repeated sessions, in order to make the navigation of our \\n     website easy and safe for our users. See our \\n for more information.\\n'), Document(metadata={'title': '\\n        Immersify\\n    ', 'url': 'https://immersify.com'}, page_content='A selection of Institutions using Immersify\\nWant to find out more?\\nCookies Policy\\nImmersify provides lecturers and academics with interactive resources spanning from beginner to advanced content, for a comprehensive learning experience.\\n3D visuals, voiceover, simulations, games and more to make even the most difficult subjects fun!\\nA huge catalog of flexible, peer-reviewed content ready to integrate seamlessly with any curriculum.\\nDiscover the proven impact immersify can have on student outcomes through our rich analytics.\\nStudy conducted by Waveform, independent market research company, 2023.\\nof users agree that the platform has high quality visuals and resources.\\nsay that Immersify makes studying more enjoyable.\\nof Immersify users think that it’s relevant to them and their studies.\\nfind the platform useful to prepare for their exams.\\nOur dentistry content is created through collaboration with industry experts and dentistry professionals. Meet a selection of our experts here:\\nEnhance your education delivery through advanced technology today.\\nOur platform’s detailed imagery and visual resources are flexible to fit in with how you want to work. Flip your classroom, provide pre-matriculation, supplement your teaching. There are so many ways to embed Immersify and reach students like never before!\\nYou then get detailed analytics and insights to help you understand what topics students are struggling with.\\nFor more information, please contact our education team on \\n, and they would be happy to discuss how you can make the most of the platform.\\nManchester, United Kingdom\\nNew York City, New York, USA\\n\\nWe use our own cookies, as well as those of third parties, for individual as\\n     well as repeated sessions, in order to make the navigation of our \\n     website easy and safe for our users. See our \\n for more information.\\n'), Document(metadata={'title': '\\n        Immersify\\n    ', 'url': 'https://immersify.com'}, page_content='A selection of Institutions using Immersify\\nWant to find out more?\\nCookies Policy\\nImmersify provides lecturers and academics with interactive resources spanning from beginner to advanced content, for a comprehensive learning experience.\\n3D visuals, voiceover, simulations, games and more to make even the most difficult subjects fun!\\nA huge catalog of flexible, peer-reviewed content ready to integrate seamlessly with any curriculum.\\nDiscover the proven impact immersify can have on student outcomes through our rich analytics.\\nStudy conducted by Waveform, independent market research company, 2023.\\nof users agree that the platform has high quality visuals and resources.\\nsay that Immersify makes studying more enjoyable.\\nof Immersify users think that it’s relevant to them and their studies.\\nfind the platform useful to prepare for their exams.\\nOur dentistry content is created through collaboration with industry experts and dentistry professionals. Meet a selection of our experts here:\\nEnhance your education delivery through advanced technology today.\\nOur platform’s detailed imagery and visual resources are flexible to fit in with how you want to work. Flip your classroom, provide pre-matriculation, supplement your teaching. There are so many ways to embed Immersify and reach students like never before!\\nYou then get detailed analytics and insights to help you understand what topics students are struggling with.\\nFor more information, please contact our education team on \\n, and they would be happy to discuss how you can make the most of the platform.\\nManchester, United Kingdom\\nNew York City, New York, USA\\n\\nWe use our own cookies, as well as those of third parties, for individual as\\n     well as repeated sessions, in order to make the navigation of our \\n     website easy and safe for our users. See our \\n for more information.\\n'), Document(metadata={'title': '\\n        Immersify\\n    ', 'url': 'https://immersify.com'}, page_content='A selection of Institutions using Immersify\\nWant to find out more?\\nCookies Policy\\nImmersify provides lecturers and academics with interactive resources spanning from beginner to advanced content, for a comprehensive learning experience.\\n3D visuals, voiceover, simulations, games and more to make even the most difficult subjects fun!\\nA huge catalog of flexible, peer-reviewed content ready to integrate seamlessly with any curriculum.\\nDiscover the proven impact immersify can have on student outcomes through our rich analytics.\\nStudy conducted by Waveform, independent market research company, 2023.\\nof users agree that the platform has high quality visuals and resources.\\nsay that Immersify makes studying more enjoyable.\\nof Immersify users think that it’s relevant to them and their studies.\\nfind the platform useful to prepare for their exams.\\nOur dentistry content is created through collaboration with industry experts and dentistry professionals. Meet a selection of our experts here:\\nEnhance your education delivery through advanced technology today.\\nOur platform’s detailed imagery and visual resources are flexible to fit in with how you want to work. Flip your classroom, provide pre-matriculation, supplement your teaching. There are so many ways to embed Immersify and reach students like never before!\\nYou then get detailed analytics and insights to help you understand what topics students are struggling with.\\nFor more information, please contact our education team on \\n, and they would be happy to discuss how you can make the most of the platform.\\nManchester, United Kingdom\\nNew York City, New York, USA\\n\\nWe use our own cookies, as well as those of third parties, for individual as\\n     well as repeated sessions, in order to make the navigation of our \\n     website easy and safe for our users. See our \\n for more information.\\n')]\n"
     ]
    },
    {
     "name": "stderr",
     "output_type": "stream",
     "text": [
      "\n"
     ]
    }
   ],
   "source": [
    "question = \"What is Immersify?\"\n",
    "docs = vectorstore.similarity_search(question)\n",
    "\n",
    "print(docs)"
   ]
  },
  {
   "cell_type": "code",
   "execution_count": 5,
   "metadata": {},
   "outputs": [
    {
     "name": "stderr",
     "output_type": "stream",
     "text": [
      "WARNING:py.warnings:/Users/alvinchirchir/miniconda3/envs/tf/lib/python3.8/site-packages/langsmith/client.py:241: LangSmithMissingAPIKeyWarning: API key must be provided when using hosted LangSmith API\n",
      "  warnings.warn(\n",
      "\n",
      "2025-07-08 12:51:21 [py.warnings] WARNING: /Users/alvinchirchir/miniconda3/envs/tf/lib/python3.8/site-packages/langsmith/client.py:241: LangSmithMissingAPIKeyWarning: API key must be provided when using hosted LangSmith API\n",
      "  warnings.warn(\n",
      "\n",
      "DEBUG:urllib3.connectionpool:Starting new HTTPS connection (1): api.smith.langchain.com:443\n",
      "2025-07-08 12:51:21 [urllib3.connectionpool] DEBUG: Starting new HTTPS connection (1): api.smith.langchain.com:443\n",
      "DEBUG:urllib3.connectionpool:Starting new HTTPS connection (2): api.smith.langchain.com:443\n",
      "2025-07-08 12:51:21 [urllib3.connectionpool] DEBUG: Starting new HTTPS connection (2): api.smith.langchain.com:443\n",
      "DEBUG:urllib3.connectionpool:https://api.smith.langchain.com:443 \"GET /info HTTP/11\" 200 748\n",
      "2025-07-08 12:51:21 [urllib3.connectionpool] DEBUG: https://api.smith.langchain.com:443 \"GET /info HTTP/11\" 200 748\n",
      "DEBUG:urllib3.connectionpool:https://api.smith.langchain.com:443 \"GET /info HTTP/11\" 200 748\n",
      "2025-07-08 12:51:21 [urllib3.connectionpool] DEBUG: https://api.smith.langchain.com:443 \"GET /info HTTP/11\" 200 748\n",
      "DEBUG:urllib3.connectionpool:https://us.i.posthog.com:443 \"POST /batch/ HTTP/11\" 200 15\n",
      "2025-07-08 12:51:21 [urllib3.connectionpool] DEBUG: https://us.i.posthog.com:443 \"POST /batch/ HTTP/11\" 200 15\n",
      "DEBUG:urllib3.connectionpool:https://api.smith.langchain.com:443 \"GET /commits/rlm/rag-prompt/latest HTTP/11\" 200 844\n",
      "2025-07-08 12:51:21 [urllib3.connectionpool] DEBUG: https://api.smith.langchain.com:443 \"GET /commits/rlm/rag-prompt/latest HTTP/11\" 200 844\n"
     ]
    }
   ],
   "source": [
    "from langchain import hub\n",
    "from langchain_community.llms import Ollama\n",
    "from langchain_core.output_parsers import StrOutputParser\n",
    "from langchain_core.runnables import RunnablePassthrough\n",
    "\n",
    "llm = Ollama(model=\"llama3.2\")\n",
    "\n",
    "retriever = vectorstore.as_retriever()\n",
    "\n",
    "\n",
    "def format_docs(docs):\n",
    "    return \"\\n\\n\".join(doc.page_content for doc in docs)\n",
    "\n",
    "\n",
    "rag_prompt = hub.pull(\"rlm/rag-prompt\")\n",
    "qa_chain = (\n",
    "    {\"context\": retriever | format_docs, \"question\": RunnablePassthrough()}\n",
    "    | rag_prompt\n",
    "    | llm\n",
    "    | StrOutputParser()\n",
    ")"
   ]
  },
  {
   "cell_type": "markdown",
   "metadata": {},
   "source": [
    "### Query"
   ]
  },
  {
   "cell_type": "code",
   "execution_count": 6,
   "metadata": {},
   "outputs": [
    {
     "name": "stderr",
     "output_type": "stream",
     "text": [
      "OllamaEmbeddings:   0%|          | 0/1 [00:00<?, ?it/s]DEBUG:urllib3.connectionpool:Starting new HTTP connection (1): localhost:11434\n",
      "2025-07-08 12:51:21 [urllib3.connectionpool] DEBUG: Starting new HTTP connection (1): localhost:11434\n",
      "DEBUG:urllib3.connectionpool:http://localhost:11434 \"POST /api/embeddings HTTP/11\" 200 None\n",
      "2025-07-08 12:51:21 [urllib3.connectionpool] DEBUG: http://localhost:11434 \"POST /api/embeddings HTTP/11\" 200 None\n",
      "OllamaEmbeddings: 100%|██████████| 1/1 [00:00<00:00,  9.30it/s]\n",
      "DEBUG:urllib3.connectionpool:Starting new HTTP connection (1): localhost:11434\n",
      "2025-07-08 12:51:21 [urllib3.connectionpool] DEBUG: Starting new HTTP connection (1): localhost:11434\n",
      "DEBUG:urllib3.connectionpool:http://localhost:11434 \"POST /api/generate HTTP/11\" 200 None\n",
      "2025-07-08 12:51:24 [urllib3.connectionpool] DEBUG: http://localhost:11434 \"POST /api/generate HTTP/11\" 200 None\n"
     ]
    },
    {
     "data": {
      "text/plain": [
       "\"Immersify is an educational platform providing interactive resources for lecturers and academics to enhance learning experiences with 3D visuals, simulations, games, and other engaging content. It offers a comprehensive catalog of flexible, peer-reviewed content that can be integrated into various curricula. The platform aims to make studying more enjoyable and relevant to students' needs.\""
      ]
     },
     "execution_count": 6,
     "metadata": {},
     "output_type": "execute_result"
    }
   ],
   "source": [
    "# question = \"What is Immersify ?\"\n",
    "\n",
    "question = \"What is Immersify?\"\n",
    "\n",
    "qa_chain.invoke(question)"
   ]
  },
  {
   "cell_type": "code",
   "execution_count": null,
   "metadata": {},
   "outputs": [
    {
     "name": "stderr",
     "output_type": "stream",
     "text": [
      "DEBUG:chromadb.api.segment:Collection langchain already exists, returning existing collection.\n",
      "2025-07-08 12:51:26 [chromadb.api.segment] DEBUG: Collection langchain already exists, returning existing collection.\n",
      "WARNING:py.warnings:/Users/alvinchirchir/miniconda3/envs/tf/lib/python3.8/site-packages/langsmith/client.py:241: LangSmithMissingAPIKeyWarning: API key must be provided when using hosted LangSmith API\n",
      "  warnings.warn(\n",
      "\n",
      "2025-07-08 12:51:26 [py.warnings] WARNING: /Users/alvinchirchir/miniconda3/envs/tf/lib/python3.8/site-packages/langsmith/client.py:241: LangSmithMissingAPIKeyWarning: API key must be provided when using hosted LangSmith API\n",
      "  warnings.warn(\n",
      "\n",
      "DEBUG:urllib3.connectionpool:Starting new HTTPS connection (1): api.smith.langchain.com:443\n",
      "2025-07-08 12:51:26 [urllib3.connectionpool] DEBUG: Starting new HTTPS connection (1): api.smith.langchain.com:443\n",
      "DEBUG:urllib3.connectionpool:Starting new HTTPS connection (2): api.smith.langchain.com:443\n",
      "2025-07-08 12:51:26 [urllib3.connectionpool] DEBUG: Starting new HTTPS connection (2): api.smith.langchain.com:443\n",
      "DEBUG:urllib3.connectionpool:https://api.smith.langchain.com:443 \"GET /info HTTP/11\" 200 748\n",
      "2025-07-08 12:51:26 [urllib3.connectionpool] DEBUG: https://api.smith.langchain.com:443 \"GET /info HTTP/11\" 200 748\n",
      "DEBUG:urllib3.connectionpool:https://api.smith.langchain.com:443 \"GET /info HTTP/11\" 200 748\n",
      "2025-07-08 12:51:26 [urllib3.connectionpool] DEBUG: https://api.smith.langchain.com:443 \"GET /info HTTP/11\" 200 748\n",
      "DEBUG:urllib3.connectionpool:https://us.i.posthog.com:443 \"POST /batch/ HTTP/11\" 200 15\n",
      "2025-07-08 12:51:27 [urllib3.connectionpool] DEBUG: https://us.i.posthog.com:443 \"POST /batch/ HTTP/11\" 200 15\n",
      "DEBUG:urllib3.connectionpool:https://api.smith.langchain.com:443 \"GET /commits/rlm/rag-prompt/latest HTTP/11\" 200 844\n",
      "2025-07-08 12:51:27 [urllib3.connectionpool] DEBUG: https://api.smith.langchain.com:443 \"GET /commits/rlm/rag-prompt/latest HTTP/11\" 200 844\n"
     ]
    }
   ],
   "source": [
    "from langchain_chroma import Chroma\n",
    "from langchain_community.embeddings import OllamaEmbeddings\n",
    "from langchain import hub\n",
    "from langchain_community.llms import Ollama\n",
    "from langchain_core.output_parsers import StrOutputParser\n",
    "from langchain_core.runnables import RunnablePassthrough\n",
    "\n",
    "vectorstore = Chroma(persist_directory=\"./chroma_db\", embedding_function=OllamaEmbeddings(model=\"llama3.2\"))\n",
    "llm = Ollama(model=\"llama3.2\")\n",
    "retriever = vectorstore.as_retriever()\n",
    "\n",
    "def format_docs(docs):\n",
    "    return \"\\n\\n\".join(doc.page_content for doc in docs)\n",
    "\n",
    "rag_prompt = hub.pull(\"rlm/rag-prompt\")\n",
    "\n",
    "qa_chain = (\n",
    "    {\"context\": retriever | format_docs, \"question\": RunnablePassthrough()}\n",
    "    | rag_prompt\n",
    "    | llm\n",
    "    | StrOutputParser()\n",
    ")\n",
    "\n",
    "# Type \"exit\" to stop the loop\n",
    "while True:\n",
    "    question = input(\"Question: \")\n",
    "    if question.lower() == \"exit\":\n",
    "        break\n",
    "    answer = qa_chain.invoke(question)\n",
    "\n",
    "    print(f\"\\nAnswer: {answer}\\n\")\n",
    "\n",
    "\n",
    "\n"
   ]
  }
 ],
 "metadata": {
  "kernelspec": {
   "display_name": "tf",
   "language": "python",
   "name": "python3"
  },
  "language_info": {
   "codemirror_mode": {
    "name": "ipython",
    "version": 3
   },
   "file_extension": ".py",
   "mimetype": "text/x-python",
   "name": "python",
   "nbconvert_exporter": "python",
   "pygments_lexer": "ipython3",
   "version": "3.8.16"
  }
 },
 "nbformat": 4,
 "nbformat_minor": 2
}
