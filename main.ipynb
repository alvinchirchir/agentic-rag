{
 "cells": [
  {
   "cell_type": "markdown",
   "metadata": {},
   "source": [
    "### Loading the docs from Website\n"
   ]
  },
  {
   "cell_type": "code",
   "execution_count": null,
   "metadata": {},
   "outputs": [],
   "source": [
    "import scrapy\n",
    "from scrapy.crawler import CrawlerProcess\n",
    "import logging\n",
    "import warnings\n",
    "from scrapy.utils.deprecate import ScrapyDeprecationWarning\n",
    "\n",
    "warnings.filterwarnings(\"ignore\", category=ScrapyDeprecationWarning)\n",
    "logging.basicConfig(level=logging.WARNING)\n",
    "\n",
    "scraped_data = []\n",
    "class ImmersifySpider(scrapy.Spider):\n",
    "    name = \"immersify\"\n",
    "    allowed_domains = [\"immersify.com\"]\n",
    "    start_urls = [\n",
    "        \"https://immersify.com\"    \n",
    "    ]\n",
    "\n",
    "    def parse(self, response):\n",
    "        \n",
    "        page_data = {\n",
    "            \"url\": response.url,\n",
    "            \"title\": response.css('title::text').get(),\n",
    "            \"headings\": response.css('h1::text, h2::text, h3::text').getall(),\n",
    "            \"paragraphs\": response.css('p::text').getall(),\n",
    "        }\n",
    "\n",
    "        \n",
    "        scraped_data.append(page_data)\n",
    "\n",
    "        \n",
    "        print(f\"Scraped data from {response.url}\")\n",
    "        print(page_data)\n",
    "\n",
    "\n",
    "process = CrawlerProcess()\n",
    "process.crawl(ImmersifySpider)\n",
    "process.start()\n",
    "\n",
    "\n",
    "print(\"Final Scraped Data:\")\n",
    "print(scraped_data)\n",
    "\n",
    "\n",
    "print(f\"Scraped {len(scraped_data)} pages.\")"
   ]
  },
  {
   "cell_type": "markdown",
   "metadata": {},
   "source": [
    "### Convert to LangChain Documents\n"
   ]
  },
  {
   "cell_type": "code",
   "execution_count": null,
   "metadata": {},
   "outputs": [],
   "source": [
    "from langchain.schema import Document\n",
    "\n",
    "\n",
    "def convert_to_documents(scraped_data):\n",
    "    documents = []\n",
    "    for page in scraped_data:\n",
    "        content = \"\\n\".join(page['headings']) + \"\\n\" + \"\\n\".join(page['paragraphs'])\n",
    "        documents.append(Document(page_content=content, metadata={\"url\": page['url'], \"title\": page['title']}))\n",
    "    return documents\n",
    "\n",
    "\n",
    "documents = convert_to_documents(scraped_data)\n",
    "print(f\"Converted {len(documents)} pages into documents.\")"
   ]
  },
  {
   "cell_type": "markdown",
   "metadata": {},
   "source": [
    "### Convert to vector"
   ]
  },
  {
   "cell_type": "code",
   "execution_count": null,
   "metadata": {},
   "outputs": [],
   "source": [
    "from langchain.vectorstores import Chroma\n",
    "from langchain.embeddings.ollama import OllamaEmbeddings\n",
    "\n",
    "# Initialize Chroma vectorstore\n",
    "def store_in_chroma(documents):\n",
    "\n",
    "    vectorstore = Chroma.from_documents(\n",
    "        documents=documents,\n",
    "        embedding=OllamaEmbeddings(model=\"llama3.2\", show_progress=True),\n",
    "        persist_directory=\"./chroma_db\",\n",
    "    )\n",
    "\n",
    "    return vectorstore\n",
    "\n",
    "\n",
    "documents = convert_to_documents(scraped_data)\n",
    "vectorstore = store_in_chroma(documents)\n",
    "print(\"Documents stored in Chroma.\")"
   ]
  },
  {
   "cell_type": "markdown",
   "metadata": {},
   "source": []
  },
  {
   "cell_type": "code",
   "execution_count": null,
   "metadata": {},
   "outputs": [],
   "source": [
    "question = \"What is Immersify?\"\n",
    "docs = vectorstore.similarity_search(question)\n",
    "\n",
    "print(docs)"
   ]
  },
  {
   "cell_type": "code",
   "execution_count": null,
   "metadata": {},
   "outputs": [],
   "source": [
    "from langchain import hub\n",
    "from langchain_community.llms import Ollama\n",
    "from langchain_core.output_parsers import StrOutputParser\n",
    "from langchain_core.runnables import RunnablePassthrough\n",
    "\n",
    "llm = Ollama(model=\"llama3.2\")\n",
    "\n",
    "retriever = vectorstore.as_retriever()\n",
    "\n",
    "\n",
    "def format_docs(docs):\n",
    "    return \"\\n\\n\".join(doc.page_content for doc in docs)\n",
    "\n",
    "\n",
    "rag_prompt = hub.pull(\"rlm/rag-prompt\")\n",
    "qa_chain = (\n",
    "    {\"context\": retriever | format_docs, \"question\": RunnablePassthrough()}\n",
    "    | rag_prompt\n",
    "    | llm\n",
    "    | StrOutputParser()\n",
    ")"
   ]
  },
  {
   "cell_type": "markdown",
   "metadata": {},
   "source": [
    "### Query"
   ]
  },
  {
   "cell_type": "code",
   "execution_count": null,
   "metadata": {},
   "outputs": [],
   "source": [
    "# question = \"What is Immersify ?\"\n",
    "\n",
    "question = \"What is Immersify?\"\n",
    "\n",
    "qa_chain.invoke(question)"
   ]
  },
  {
   "cell_type": "code",
   "execution_count": null,
   "metadata": {},
   "outputs": [],
   "source": [
    "from langchain_chroma import Chroma\n",
    "from langchain_community.embeddings import OllamaEmbeddings\n",
    "from langchain import hub\n",
    "from langchain_community.llms import Ollama\n",
    "from langchain_core.output_parsers import StrOutputParser\n",
    "from langchain_core.runnables import RunnablePassthrough\n",
    "\n",
    "vectorstore = Chroma(persist_directory=\"./chroma_db\", embedding_function=OllamaEmbeddings(model=\"llama3.2\"))\n",
    "llm = Ollama(model=\"llama3.2\")\n",
    "retriever = vectorstore.as_retriever()\n",
    "\n",
    "def format_docs(docs):\n",
    "    return \"\\n\\n\".join(doc.page_content for doc in docs)\n",
    "\n",
    "rag_prompt = hub.pull(\"rlm/rag-prompt\")\n",
    "\n",
    "qa_chain = (\n",
    "    {\"context\": retriever | format_docs, \"question\": RunnablePassthrough()}\n",
    "    | rag_prompt\n",
    "    | llm\n",
    "    | StrOutputParser()\n",
    ")\n",
    "\n",
    "# Type \"exit\" to stop the loop\n",
    "while True:\n",
    "    question = input(\"Question: \")\n",
    "    if question.lower() == \"exit\":\n",
    "        break\n",
    "    answer = qa_chain.invoke(question)\n",
    "\n",
    "    print(f\"\\nAnswer: {answer}\\n\")\n",
    "\n",
    "\n",
    "\n"
   ]
  }
 ],
 "metadata": {
  "kernelspec": {
   "display_name": "tf",
   "language": "python",
   "name": "python3"
  },
  "language_info": {
   "codemirror_mode": {
    "name": "ipython",
    "version": 3
   },
   "file_extension": ".py",
   "mimetype": "text/x-python",
   "name": "python",
   "nbconvert_exporter": "python",
   "pygments_lexer": "ipython3",
   "version": "3.8.16"
  }
 },
 "nbformat": 4,
 "nbformat_minor": 2
}
